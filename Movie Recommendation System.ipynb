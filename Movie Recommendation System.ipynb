{
 "cells": [
  {
   "cell_type": "markdown",
   "id": "ea80e0c5",
   "metadata": {},
   "source": [
    "# Movie Recommendation System"
   ]
  },
  {
   "cell_type": "markdown",
   "id": "985a1829",
   "metadata": {},
   "source": [
    "#### Import Numpy and Pandas"
   ]
  },
  {
   "cell_type": "code",
   "execution_count": null,
   "id": "a80adca9",
   "metadata": {},
   "source": [
    "import numpy as np \n",
    "import pandas as pd"
   ],
   "outputs": []
  },
  {
   "cell_type": "markdown",
   "id": "07720053",
   "metadata": {},
   "source": [
    "#### Read CSV of Movies and Credits"
   ]
  },
  {
   "cell_type": "code",
   "execution_count": 2,
   "id": "7065ff10",
   "metadata": {},
   "source": [
    "movies=pd.read_csv('tmdb_5000_movies.csv')\n",
    "credits=pd.read_csv('tmdb_5000_credits.csv')"
   ],
   "outputs": []
  },
  {
   "cell_type": "markdown",
   "id": "13a58a61",
   "metadata": {},
   "source": [
    "#### Sample Movies and Credits Data"
   ]
  },
  {
   "cell_type": "code",
   "execution_count": 3,
   "id": "90dd4cb0",
   "metadata": {},
   "source": [
    "movies.sample(5)"
   ],
   "outputs": []
  },
  {
   "cell_type": "code",
   "execution_count": 4,
   "id": "3569a200",
   "metadata": {},
   "source": [
    "credits.sample(5)"
   ],
   "outputs": []
  },
  {
   "cell_type": "markdown",
   "id": "79842b98",
   "metadata": {},
   "source": [
    "#### Merge Movies & Credits based on Title"
   ]
  },
  {
   "cell_type": "code",
   "execution_count": 5,
   "id": "c911e09f",
   "metadata": {},
   "source": [
    "movies=movies.merge(credits,on='title')"
   ],
   "outputs": []
  },
  {
   "cell_type": "code",
   "execution_count": 6,
   "id": "5d943610",
   "metadata": {},
   "source": [
    "movies.info()"
   ],
   "outputs": []
  },
  {
   "cell_type": "markdown",
   "id": "b362b6da",
   "metadata": {},
   "source": [
    "#### Select Required Series to form DataFrame"
   ]
  },
  {
   "cell_type": "code",
   "execution_count": 7,
   "id": "a789e995",
   "metadata": {},
   "source": [
    "movies=movies[['movie_id','title','overview','genres','keywords','cast','crew']]"
   ],
   "outputs": []
  },
  {
   "cell_type": "code",
   "execution_count": 8,
   "id": "a65a08d5",
   "metadata": {},
   "source": [
    "movies.info()"
   ],
   "outputs": []
  },
  {
   "cell_type": "markdown",
   "id": "fb367e71",
   "metadata": {},
   "source": [
    "#### Drop Null and Duplicated Values"
   ]
  },
  {
   "cell_type": "code",
   "execution_count": 9,
   "id": "6c2d9213",
   "metadata": {},
   "source": [
    "movies.dropna(inplace=True) "
   ],
   "outputs": []
  },
  {
   "cell_type": "code",
   "execution_count": 10,
   "id": "885c592e",
   "metadata": {},
   "source": [
    "movies.isnull().sum()"
   ],
   "outputs": []
  },
  {
   "cell_type": "code",
   "execution_count": 11,
   "id": "5c362e35",
   "metadata": {},
   "source": [
    "movies.duplicated().sum()"
   ],
   "outputs": []
  },
  {
   "cell_type": "code",
   "execution_count": 12,
   "id": "2ac5d408",
   "metadata": {},
   "source": [
    " movies"
   ],
   "outputs": []
  },
  {
   "cell_type": "markdown",
   "id": "35fd5e01",
   "metadata": {},
   "source": [
    "#### Genres Structure"
   ]
  },
  {
   "cell_type": "code",
   "execution_count": 13,
   "id": "c291529f",
   "metadata": {},
   "source": [
    "movies.iloc[0].genres"
   ],
   "outputs": []
  },
  {
   "cell_type": "markdown",
   "id": "c5375e0a",
   "metadata": {},
   "source": [
    "#### Converting Object to List"
   ]
  },
  {
   "cell_type": "code",
   "execution_count": 14,
   "id": "0c8bae56",
   "metadata": {},
   "source": [
    "import ast"
   ],
   "outputs": []
  },
  {
   "cell_type": "code",
   "execution_count": 15,
   "id": "b1372f1a",
   "metadata": {},
   "source": [
    "def convert(obj):\n",
    "    L=[]\n",
    "    for i in ast.literal_eval(obj):\n",
    "        L.append(i['name'])\n",
    "    return L"
   ],
   "outputs": []
  },
  {
   "cell_type": "code",
   "execution_count": 16,
   "id": "dc91b538",
   "metadata": {},
   "source": [
    "movies['genres']=movies['genres'].apply(convert)"
   ],
   "outputs": []
  },
  {
   "cell_type": "code",
   "execution_count": 17,
   "id": "1b0aa48e",
   "metadata": {},
   "source": [
    "movies"
   ],
   "outputs": []
  },
  {
   "cell_type": "markdown",
   "id": "fdfedc2f",
   "metadata": {},
   "source": [
    "#### Getting Keywords "
   ]
  },
  {
   "cell_type": "code",
   "execution_count": 18,
   "id": "844613a7",
   "metadata": {},
   "source": [
    "movies['keywords']=movies['keywords'].apply(convert)\n",
    "        "
   ],
   "outputs": []
  },
  {
   "cell_type": "code",
   "execution_count": 19,
   "id": "24e4ff9d",
   "metadata": {},
   "source": [
    "movies"
   ],
   "outputs": []
  },
  {
   "cell_type": "markdown",
   "id": "563b1917",
   "metadata": {},
   "source": [
    "#### Cast Structure "
   ]
  },
  {
   "cell_type": "code",
   "execution_count": 20,
   "id": "caf0e831",
   "metadata": {},
   "source": [
    "movies.iloc[0].cast"
   ],
   "outputs": []
  },
  {
   "cell_type": "markdown",
   "id": "b7fae619",
   "metadata": {},
   "source": [
    "#### Getting First 3 cast names"
   ]
  },
  {
   "cell_type": "code",
   "execution_count": 21,
   "id": "176309fb",
   "metadata": {},
   "source": [
    "def convert3(obj):\n",
    "    L=[]\n",
    "    counter=0\n",
    "    for i in ast.literal_eval(obj):\n",
    "        if counter!=3:\n",
    "            L.append(i['name'])\n",
    "            counter+=1\n",
    "        else:\n",
    "            break\n",
    "    return L\n",
    "        "
   ],
   "outputs": []
  },
  {
   "cell_type": "code",
   "execution_count": 22,
   "id": "cfee2a3f",
   "metadata": {},
   "source": [
    "movies['cast']=movies['cast'].apply(convert3)"
   ],
   "outputs": []
  },
  {
   "cell_type": "markdown",
   "id": "aa1fc360",
   "metadata": {},
   "source": [
    "#### Getting Director Name From Crew"
   ]
  },
  {
   "cell_type": "code",
   "execution_count": 23,
   "id": "4fcc856b",
   "metadata": {},
   "source": [
    "def fetch_director(obj):\n",
    "    L=[]\n",
    "    for i in ast.literal_eval(obj):\n",
    "        if(i['job']=='Director'):\n",
    "            L.append(i['name'])\n",
    "    return L"
   ],
   "outputs": []
  },
  {
   "cell_type": "code",
   "execution_count": 24,
   "id": "55becc39",
   "metadata": {},
   "source": [
    "movies.iloc[0].crew"
   ],
   "outputs": []
  },
  {
   "cell_type": "code",
   "execution_count": 25,
   "id": "e8dc00cb",
   "metadata": {},
   "source": [
    "movies['crew']=movies['crew'].apply(fetch_director)"
   ],
   "outputs": []
  },
  {
   "cell_type": "code",
   "execution_count": 26,
   "id": "30bec448",
   "metadata": {},
   "source": [
    "movies\n"
   ],
   "outputs": []
  },
  {
   "cell_type": "code",
   "execution_count": 27,
   "id": "addeb2ed",
   "metadata": {},
   "source": [
    "movies['overview']=movies['overview'].apply(lambda x:x.split())"
   ],
   "outputs": []
  },
  {
   "cell_type": "code",
   "execution_count": 28,
   "id": "2b5e02d1",
   "metadata": {},
   "source": [
    "movies"
   ],
   "outputs": []
  },
  {
   "cell_type": "markdown",
   "id": "e5a53fd8",
   "metadata": {},
   "source": [
    "#### Remove extra spaces"
   ]
  },
  {
   "cell_type": "code",
   "execution_count": 29,
   "id": "6c57db9c",
   "metadata": {},
   "source": [
    "movies['genres']=movies['genres'].apply(lambda x:[i.replace(\" \",\"\") for i in x])"
   ],
   "outputs": []
  },
  {
   "cell_type": "code",
   "execution_count": 30,
   "id": "083f8779",
   "metadata": {},
   "source": [
    "movies['keywords']=movies['keywords'].apply(lambda x:[i.replace(\" \",\"\") for i in x])"
   ],
   "outputs": []
  },
  {
   "cell_type": "code",
   "execution_count": 31,
   "id": "d34a3582",
   "metadata": {},
   "source": [
    "movies['cast']=movies['cast'].apply(lambda x:[i.replace(\" \",\"\") for i in x])"
   ],
   "outputs": []
  },
  {
   "cell_type": "code",
   "execution_count": 32,
   "id": "d3d014df",
   "metadata": {},
   "source": [
    "movies['crew']=movies['crew'].apply(lambda x:[i.replace(\" \",\"\") for i in x])"
   ],
   "outputs": []
  },
  {
   "cell_type": "code",
   "execution_count": 33,
   "id": "99a484c2",
   "metadata": {},
   "source": [
    "movies"
   ],
   "outputs": []
  },
  {
   "cell_type": "markdown",
   "id": "2e8b0007",
   "metadata": {},
   "source": [
    "#### Adding All the Series into Tags"
   ]
  },
  {
   "cell_type": "code",
   "execution_count": 34,
   "id": "3d313824",
   "metadata": {},
   "source": [
    "movies['tags']=movies['overview']+movies['genres']+movies['keywords']+movies['cast']+movies['crew']"
   ],
   "outputs": []
  },
  {
   "cell_type": "markdown",
   "id": "44f6ff0d",
   "metadata": {},
   "source": [
    "### New DF contains movie_id, title, tags"
   ]
  },
  {
   "cell_type": "code",
   "execution_count": 35,
   "id": "cba94d56",
   "metadata": {},
   "source": [
    "new_df = movies[['movie_id','title','tags']]"
   ],
   "outputs": []
  },
  {
   "cell_type": "code",
   "execution_count": 36,
   "id": "73203534",
   "metadata": {},
   "source": [
    "new_df"
   ],
   "outputs": []
  },
  {
   "cell_type": "code",
   "execution_count": 37,
   "id": "e4f5dcad",
   "metadata": {},
   "source": [
    "new_df['tags'] = new_df['tags'].apply(lambda x:\" \".join(x))"
   ],
   "outputs": []
  },
  {
   "cell_type": "code",
   "execution_count": 38,
   "id": "0418ea77",
   "metadata": {},
   "source": [
    "new_df"
   ],
   "outputs": []
  },
  {
   "cell_type": "code",
   "execution_count": 39,
   "id": "94428bb7",
   "metadata": {},
   "source": [
    "new_df['tags']=new_df['tags'].apply(lambda x:x.lower())"
   ],
   "outputs": []
  },
  {
   "cell_type": "code",
   "execution_count": 40,
   "id": "dc59874d",
   "metadata": {},
   "source": [
    "new_df"
   ],
   "outputs": []
  },
  {
   "cell_type": "markdown",
   "id": "d00ff0af",
   "metadata": {},
   "source": [
    "#### Making Common Names Similar"
   ]
  },
  {
   "cell_type": "code",
   "execution_count": 41,
   "id": "9be2c92b",
   "metadata": {},
   "source": [
    "import nltk"
   ],
   "outputs": []
  },
  {
   "cell_type": "code",
   "execution_count": 42,
   "id": "c4022deb",
   "metadata": {},
   "source": [
    "from nltk.stem.porter import PorterStemmer\n",
    "ps= PorterStemmer()"
   ],
   "outputs": []
  },
  {
   "cell_type": "code",
   "execution_count": 43,
   "id": "7fee6007",
   "metadata": {},
   "source": [
    "def stem(text):\n",
    "    y=[]\n",
    "    for i in text.split():\n",
    "        y.append(ps.stem(i))\n",
    "    return \" \".join(y)"
   ],
   "outputs": []
  },
  {
   "cell_type": "code",
   "execution_count": 44,
   "id": "dec33c1c",
   "metadata": {},
   "source": [
    "new_df['tags']=new_df['tags'].apply(stem)"
   ],
   "outputs": []
  },
  {
   "cell_type": "markdown",
   "id": "719b9f1c",
   "metadata": {},
   "source": [
    " ### Converting Tags to Vectors "
   ]
  },
  {
   "cell_type": "code",
   "execution_count": 45,
   "id": "f123d6a6",
   "metadata": {},
   "source": [
    "from sklearn.feature_extraction.text import CountVectorizer\n",
    "cv = CountVectorizer(max_features=5000,stop_words='english')"
   ],
   "outputs": []
  },
  {
   "cell_type": "code",
   "execution_count": 46,
   "id": "19e5f186",
   "metadata": {},
   "source": [
    "vectors = cv.fit_transform(new_df['tags']).toarray()"
   ],
   "outputs": []
  },
  {
   "cell_type": "code",
   "execution_count": 47,
   "id": "22553794",
   "metadata": {},
   "source": [
    "vectors"
   ],
   "outputs": []
  },
  {
   "cell_type": "markdown",
   "id": "be3840fa",
   "metadata": {},
   "source": [
    "#### Vectors are alligned with Title"
   ]
  },
  {
   "cell_type": "code",
   "execution_count": 48,
   "id": "14b84259",
   "metadata": {},
   "source": [
    "from sklearn.metrics.pairwise import cosine_similarity"
   ],
   "outputs": []
  },
  {
   "cell_type": "code",
   "execution_count": 49,
   "id": "4f33ea2b",
   "metadata": {},
   "source": [
    "similarity=cosine_similarity(vectors)"
   ],
   "outputs": []
  },
  {
   "cell_type": "markdown",
   "id": "f42a81ad",
   "metadata": {},
   "source": [
    "### Function to Return Similar Movies"
   ]
  },
  {
   "cell_type": "code",
   "execution_count": 52,
   "id": "9de63868",
   "metadata": {},
   "source": [
    "def recommend(movie):\n",
    "    # Ensure new_df contains the title column and similarity is a square matrix of appropriate size\n",
    "    movie_index = new_df[new_df['title'] == movie].index[0]\n",
    "    distances = similarity[movie_index]\n",
    "    \n",
    "    # Ensure distances is an array\n",
    "    if isinstance(distances, np.ndarray):\n",
    "        movie_list = sorted(list(enumerate(distances)), reverse=True, key=lambda x: x[1])[1:6]\n",
    "        \n",
    "        for i in movie_list:\n",
    "            print(new_df.iloc[i[0]].title)\n",
    "    else:\n",
    "        print(\"Error: distances is not an array\")"
   ],
   "outputs": []
  },
  {
   "cell_type": "code",
   "execution_count": 55,
   "id": "f3277125",
   "metadata": {},
   "source": [
    "recommend('Avatar')"
   ],
   "outputs": []
  },
  {
   "cell_type": "markdown",
   "id": "2dd176cf",
   "metadata": {},
   "source": [
    "### Pickle Library"
   ]
  },
  {
   "cell_type": "code",
   "execution_count": 57,
   "id": "917ddd16",
   "metadata": {},
   "source": [
    "import pickle"
   ],
   "outputs": []
  },
  {
   "cell_type": "code",
   "execution_count": 59,
   "id": "73ed0b01",
   "metadata": {},
   "source": [
    "pickle.dump(new_df.to_dict(),open('movies_dict.pkl','wb'))"
   ],
   "outputs": []
  },
  {
   "cell_type": "code",
   "execution_count": 60,
   "id": "55ee41a0",
   "metadata": {},
   "source": [
    "pickle.dump(similarity,open('similarity.pkl','wb'))"
   ],
   "outputs": []
  }
 ],
 "metadata": {
  "kernelspec": {
   "display_name": "Python 3 (ipykernel)",
   "language": "python",
   "name": "python3"
  },
  "language_info": {
   "codemirror_mode": {
    "name": "ipython",
    "version": 3
   },
   "file_extension": ".py",
   "mimetype": "text/x-python",
   "name": "python",
   "nbconvert_exporter": "python",
   "pygments_lexer": "ipython3",
   "version": "3.11.7"
  }
 },
 "nbformat": 4,
 "nbformat_minor": 5
}
